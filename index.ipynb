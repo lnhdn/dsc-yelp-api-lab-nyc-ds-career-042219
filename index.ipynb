{
 "cells": [
  {
   "cell_type": "markdown",
   "metadata": {},
   "source": [
    "# Yelp API - Lab\n",
    "\n",
    "\n",
    "## Introduction \n",
    "\n",
    "Now that we've seen how the Yelp API works and some basic Folium visualizations, it's time to put those skills to work in order to create a working map! Taking things a step further, you'll also independently explore how to perform pagination in order to retrieve a full results set from the Yelp API!\n",
    "\n",
    "## Objectives\n",
    "\n",
    "You will be able to: \n",
    "* Create HTTP requests to get data from Yelp API\n",
    "* Parse HTTP responses and perform data analysis on the data returned\n",
    "* Perform pagination to retrieve troves of data!\n",
    "* Create a simple geographical system on to view information about selected businesses, at a given location. \n",
    "\n",
    "## Problem Introduction\n",
    "\n",
    "You've now worked with some API calls, but we have yet to see how to retrieve a more complete dataset in a programmatic manner. Returning to the Yelp API, the [documentation](https://www.yelp.com/developers/documentation/v3/business_search) also provides us details regarding the API limits. These often include details about the number of requests a user is allowed to make within a specified time limit and the maximum number of results to be returned. In this case, we are told that any request has a maximum of 50 results per request and defaults to 20. Furthermore, any search will be limited to a total of 1000 results. To retrieve all 1000 of these results, we would have to page through the results piece by piece, retrieving 50 at a time. Processes such as these are often referred to as pagination.\n",
    "\n",
    "In this lab, you will define a search and then paginate over the results to retrieve all of the results. You'll then parse these responses as a DataFrame (for further exploration) and create a map using Folium to visualize the results geographically.\n",
    "\n",
    "## Part I - Make the Initial Request\n",
    "\n",
    "Start by making an initial request to the Yelp API. Your search must include at least 2 parameters: **term** and **location**. For example, you might search for pizza restaurants in NYC. The term and location is up to you, but make the request below."
   ]
  },
  {
   "cell_type": "code",
   "execution_count": 1,
   "metadata": {},
   "outputs": [],
   "source": [
    "#Your code here\n",
    "import requests"
   ]
  },
  {
   "cell_type": "code",
   "execution_count": 3,
   "metadata": {},
   "outputs": [],
   "source": [
    "api_key = 'bnYN84LJ0TVRk-1Us6iFklXTItRP4eNPghR4po5v2tC7aBkowBHeziCgJTc1zwYRfh1NNHI6hKaAS97jihf2UIhjsQaGfLicnPg2otW_rOvCz214J4lKLV4vl3rcXHYx' #put your api key (as a string) here\n",
    "url = 'https://api.yelp.com/v3/businesses/search'\n",
    "\n",
    "headers = {\n",
    "        'Authorization': 'Bearer {}'.format(api_key),\n",
    "    }\n",
    "\n",
    "url_params = {\n",
    "                'location': 'NYC',\n",
    "                'term': 'pizza'\n",
    "            }\n",
    "response = requests.get(url, headers=headers, params=url_params)"
   ]
  },
  {
   "cell_type": "markdown",
   "metadata": {},
   "source": [
    "## Pagination\n",
    "\n",
    "Now that you have an initial response, you can examine the contents of the json container. For example, you might start with ```response.json().keys()```. Here, you'll see a key for `'total'`, which tells you the full number of matching results given your query parameters. Write a loop (or ideally a function) which then makes successive API calls using the offset parameter to retrieve all of the results (or 5000 for a particularly large result set) for the original query. As you do this, be mindful of how you store the data. Your final goal will be to reformat the data concerning the businesses themselves into a pandas DataFrame from the json objects.\n",
    "\n",
    "**Note: be mindful of the API rate limits. You can only make 5000 requests per day, and are also can make requests too fast. Start prototyping small before running a loop that could be faulty. You can also use time.sleep(n) to add delays. For more details see https://www.yelp.com/developers/documentation/v3/rate_limiting.**"
   ]
  },
  {
   "cell_type": "code",
   "execution_count": 4,
   "metadata": {},
   "outputs": [
    {
     "data": {
      "text/plain": [
       "dict_keys(['businesses', 'total', 'region'])"
      ]
     },
     "execution_count": 4,
     "metadata": {},
     "output_type": "execute_result"
    }
   ],
   "source": [
    "# Your code here; use a function or loop to retrieve all the results from your original request\n",
    "response.json().keys()"
   ]
  },
  {
   "cell_type": "code",
   "execution_count": 9,
   "metadata": {},
   "outputs": [
    {
     "data": {
      "text/plain": [
       "10800"
      ]
     },
     "execution_count": 9,
     "metadata": {},
     "output_type": "execute_result"
    }
   ],
   "source": [
    "response.json()['total']"
   ]
  },
  {
   "cell_type": "code",
   "execution_count": 12,
   "metadata": {},
   "outputs": [
    {
     "data": {
      "text/plain": [
       "20"
      ]
     },
     "execution_count": 12,
     "metadata": {},
     "output_type": "execute_result"
    }
   ],
   "source": [
    "len(response.json()['businesses'])"
   ]
  },
  {
   "cell_type": "code",
   "execution_count": 16,
   "metadata": {},
   "outputs": [],
   "source": [
    "import pandas as pd\n",
    "import time"
   ]
  },
  {
   "cell_type": "code",
   "execution_count": 27,
   "metadata": {},
   "outputs": [
    {
     "name": "stdout",
     "output_type": "stream",
     "text": [
      "10800 total matches found.\n",
      "1000\n"
     ]
    },
    {
     "data": {
      "text/html": [
       "<div>\n",
       "<style scoped>\n",
       "    .dataframe tbody tr th:only-of-type {\n",
       "        vertical-align: middle;\n",
       "    }\n",
       "\n",
       "    .dataframe tbody tr th {\n",
       "        vertical-align: top;\n",
       "    }\n",
       "\n",
       "    .dataframe thead th {\n",
       "        text-align: right;\n",
       "    }\n",
       "</style>\n",
       "<table border=\"1\" class=\"dataframe\">\n",
       "  <thead>\n",
       "    <tr style=\"text-align: right;\">\n",
       "      <th></th>\n",
       "      <th>alias</th>\n",
       "      <th>categories</th>\n",
       "      <th>coordinates</th>\n",
       "      <th>display_phone</th>\n",
       "      <th>distance</th>\n",
       "      <th>id</th>\n",
       "      <th>image_url</th>\n",
       "      <th>is_closed</th>\n",
       "      <th>location</th>\n",
       "      <th>name</th>\n",
       "      <th>phone</th>\n",
       "      <th>price</th>\n",
       "      <th>rating</th>\n",
       "      <th>review_count</th>\n",
       "      <th>transactions</th>\n",
       "      <th>url</th>\n",
       "    </tr>\n",
       "  </thead>\n",
       "  <tbody>\n",
       "    <tr>\n",
       "      <th>0</th>\n",
       "      <td>best-pizza-shop-queens</td>\n",
       "      <td>[{'alias': 'pizza', 'title': 'Pizza'}]</td>\n",
       "      <td>{'latitude': 40.7589, 'longitude': -73.92601}</td>\n",
       "      <td></td>\n",
       "      <td>940.408732</td>\n",
       "      <td>XLks2jXfslR0SzqFlUa6rw</td>\n",
       "      <td>https://s3-media3.fl.yelpcdn.com/bphoto/nwvuqg...</td>\n",
       "      <td>False</td>\n",
       "      <td>{'address1': '32-20 34th Ave', 'address2': '',...</td>\n",
       "      <td>Best Pizza Shop</td>\n",
       "      <td></td>\n",
       "      <td>NaN</td>\n",
       "      <td>4.0</td>\n",
       "      <td>10</td>\n",
       "      <td>[pickup, delivery]</td>\n",
       "      <td>https://www.yelp.com/biz/best-pizza-shop-queen...</td>\n",
       "    </tr>\n",
       "    <tr>\n",
       "      <th>1</th>\n",
       "      <td>milkflower-astoria</td>\n",
       "      <td>[{'alias': 'pizza', 'title': 'Pizza'}]</td>\n",
       "      <td>{'latitude': 40.7628961, 'longitude': -73.9207...</td>\n",
       "      <td>(718) 204-1300</td>\n",
       "      <td>461.294783</td>\n",
       "      <td>1OZPOWZwJr-hpvMt6TD4ug</td>\n",
       "      <td>https://s3-media3.fl.yelpcdn.com/bphoto/SQG1kI...</td>\n",
       "      <td>False</td>\n",
       "      <td>{'address1': '3412 31st Ave', 'address2': '', ...</td>\n",
       "      <td>Milkflower</td>\n",
       "      <td>+17182041300</td>\n",
       "      <td>$$</td>\n",
       "      <td>4.5</td>\n",
       "      <td>581</td>\n",
       "      <td>[]</td>\n",
       "      <td>https://www.yelp.com/biz/milkflower-astoria?ad...</td>\n",
       "    </tr>\n",
       "    <tr>\n",
       "      <th>2</th>\n",
       "      <td>rizzos-fine-pizza-astoria</td>\n",
       "      <td>[{'alias': 'pizza', 'title': 'Pizza'}]</td>\n",
       "      <td>{'latitude': 40.76335, 'longitude': -73.91516}</td>\n",
       "      <td>(718) 721-9862</td>\n",
       "      <td>713.161109</td>\n",
       "      <td>hB2S1y5T9ufMz5ksHHhdIA</td>\n",
       "      <td>https://s3-media3.fl.yelpcdn.com/bphoto/p1IQ1w...</td>\n",
       "      <td>False</td>\n",
       "      <td>{'address1': '3013 Steinway St', 'address2': '...</td>\n",
       "      <td>Rizzo's Fine Pizza</td>\n",
       "      <td>+17187219862</td>\n",
       "      <td>$</td>\n",
       "      <td>4.0</td>\n",
       "      <td>557</td>\n",
       "      <td>[pickup, delivery]</td>\n",
       "      <td>https://www.yelp.com/biz/rizzos-fine-pizza-ast...</td>\n",
       "    </tr>\n",
       "    <tr>\n",
       "      <th>3</th>\n",
       "      <td>sacs-place-astoria</td>\n",
       "      <td>[{'alias': 'pizza', 'title': 'Pizza'}, {'alias...</td>\n",
       "      <td>{'latitude': 40.7628982173022, 'longitude': -7...</td>\n",
       "      <td>(718) 204-5002</td>\n",
       "      <td>605.395513</td>\n",
       "      <td>Y3xDbSHXs6apMA4JLGJZ1Q</td>\n",
       "      <td>https://s3-media3.fl.yelpcdn.com/bphoto/DvDlQ_...</td>\n",
       "      <td>False</td>\n",
       "      <td>{'address1': '2541 Broadway', 'address2': '', ...</td>\n",
       "      <td>Sac's Place</td>\n",
       "      <td>+17182045002</td>\n",
       "      <td>$$</td>\n",
       "      <td>4.0</td>\n",
       "      <td>455</td>\n",
       "      <td>[pickup, delivery]</td>\n",
       "      <td>https://www.yelp.com/biz/sacs-place-astoria?ad...</td>\n",
       "    </tr>\n",
       "    <tr>\n",
       "      <th>4</th>\n",
       "      <td>mela-pizza-house-astoria</td>\n",
       "      <td>[{'alias': 'pizza', 'title': 'Pizza'}]</td>\n",
       "      <td>{'latitude': 40.76765, 'longitude': -73.92056}</td>\n",
       "      <td>(718) 777-5533</td>\n",
       "      <td>159.969828</td>\n",
       "      <td>KjlNK_o3kWtsjsIx6ZgF0A</td>\n",
       "      <td>https://s3-media2.fl.yelpcdn.com/bphoto/2O0JuH...</td>\n",
       "      <td>False</td>\n",
       "      <td>{'address1': '31-01 Newtown Ave', 'address2': ...</td>\n",
       "      <td>Mela Pizza House</td>\n",
       "      <td>+17187775533</td>\n",
       "      <td>$</td>\n",
       "      <td>4.0</td>\n",
       "      <td>25</td>\n",
       "      <td>[pickup, delivery]</td>\n",
       "      <td>https://www.yelp.com/biz/mela-pizza-house-asto...</td>\n",
       "    </tr>\n",
       "  </tbody>\n",
       "</table>\n",
       "</div>"
      ],
      "text/plain": [
       "                       alias  \\\n",
       "0     best-pizza-shop-queens   \n",
       "1         milkflower-astoria   \n",
       "2  rizzos-fine-pizza-astoria   \n",
       "3         sacs-place-astoria   \n",
       "4   mela-pizza-house-astoria   \n",
       "\n",
       "                                          categories  \\\n",
       "0             [{'alias': 'pizza', 'title': 'Pizza'}]   \n",
       "1             [{'alias': 'pizza', 'title': 'Pizza'}]   \n",
       "2             [{'alias': 'pizza', 'title': 'Pizza'}]   \n",
       "3  [{'alias': 'pizza', 'title': 'Pizza'}, {'alias...   \n",
       "4             [{'alias': 'pizza', 'title': 'Pizza'}]   \n",
       "\n",
       "                                         coordinates   display_phone  \\\n",
       "0      {'latitude': 40.7589, 'longitude': -73.92601}                   \n",
       "1  {'latitude': 40.7628961, 'longitude': -73.9207...  (718) 204-1300   \n",
       "2     {'latitude': 40.76335, 'longitude': -73.91516}  (718) 721-9862   \n",
       "3  {'latitude': 40.7628982173022, 'longitude': -7...  (718) 204-5002   \n",
       "4     {'latitude': 40.76765, 'longitude': -73.92056}  (718) 777-5533   \n",
       "\n",
       "     distance                      id  \\\n",
       "0  940.408732  XLks2jXfslR0SzqFlUa6rw   \n",
       "1  461.294783  1OZPOWZwJr-hpvMt6TD4ug   \n",
       "2  713.161109  hB2S1y5T9ufMz5ksHHhdIA   \n",
       "3  605.395513  Y3xDbSHXs6apMA4JLGJZ1Q   \n",
       "4  159.969828  KjlNK_o3kWtsjsIx6ZgF0A   \n",
       "\n",
       "                                           image_url  is_closed  \\\n",
       "0  https://s3-media3.fl.yelpcdn.com/bphoto/nwvuqg...      False   \n",
       "1  https://s3-media3.fl.yelpcdn.com/bphoto/SQG1kI...      False   \n",
       "2  https://s3-media3.fl.yelpcdn.com/bphoto/p1IQ1w...      False   \n",
       "3  https://s3-media3.fl.yelpcdn.com/bphoto/DvDlQ_...      False   \n",
       "4  https://s3-media2.fl.yelpcdn.com/bphoto/2O0JuH...      False   \n",
       "\n",
       "                                            location                name  \\\n",
       "0  {'address1': '32-20 34th Ave', 'address2': '',...     Best Pizza Shop   \n",
       "1  {'address1': '3412 31st Ave', 'address2': '', ...          Milkflower   \n",
       "2  {'address1': '3013 Steinway St', 'address2': '...  Rizzo's Fine Pizza   \n",
       "3  {'address1': '2541 Broadway', 'address2': '', ...         Sac's Place   \n",
       "4  {'address1': '31-01 Newtown Ave', 'address2': ...    Mela Pizza House   \n",
       "\n",
       "          phone price  rating  review_count        transactions  \\\n",
       "0                 NaN     4.0            10  [pickup, delivery]   \n",
       "1  +17182041300    $$     4.5           581                  []   \n",
       "2  +17187219862     $     4.0           557  [pickup, delivery]   \n",
       "3  +17182045002    $$     4.0           455  [pickup, delivery]   \n",
       "4  +17187775533     $     4.0            25  [pickup, delivery]   \n",
       "\n",
       "                                                 url  \n",
       "0  https://www.yelp.com/biz/best-pizza-shop-queen...  \n",
       "1  https://www.yelp.com/biz/milkflower-astoria?ad...  \n",
       "2  https://www.yelp.com/biz/rizzos-fine-pizza-ast...  \n",
       "3  https://www.yelp.com/biz/sacs-place-astoria?ad...  \n",
       "4  https://www.yelp.com/biz/mela-pizza-house-asto...  "
      ]
     },
     "execution_count": 27,
     "metadata": {},
     "output_type": "execute_result"
    }
   ],
   "source": [
    "def yelp_call(url_params, api_key):\n",
    "    url = 'https://api.yelp.com/v3/businesses/search'\n",
    "    headers = {'Authorization': 'Bearer {}'.format(api_key)}\n",
    "    response = requests.get(url, headers=headers, params=url_params)\n",
    "    \n",
    "    df = pd.DataFrame(response.json()['businesses'])\n",
    "    return df\n",
    "\n",
    "def all_results(url_params, api_key):\n",
    "    num = response.json()['total']\n",
    "    print('{} total matches found.'.format(num))\n",
    "    cur = 0\n",
    "    dfs = []\n",
    "    while cur < num and cur < 1000:\n",
    "        url_params['offset'] = cur\n",
    "        dfs.append(yelp_call(url_params, api_key))\n",
    "        time.sleep(1) #Wait a second\n",
    "        cur += 50\n",
    "    df = pd.concat(dfs, ignore_index=True)\n",
    "    return df\n",
    "\n",
    "term = 'pizza'\n",
    "location = 'Astoria NY'\n",
    "url_params = {  'term': term.replace(' ', '+'),\n",
    "                'location': location.replace(' ', '+'),\n",
    "                'limit' : 50\n",
    "             }\n",
    "df = all_results(url_params, api_key)\n",
    "print(len(df))\n",
    "df.head()"
   ]
  },
  {
   "cell_type": "markdown",
   "metadata": {},
   "source": [
    "## Exploratory Analysis\n",
    "\n",
    "Take the restaurants from the previous question and do an initial exploratory analysis. At minimum, this should include looking at the distribution of features such as price, rating and number of reviews as well as the relations between these dimensions."
   ]
  },
  {
   "cell_type": "code",
   "execution_count": 28,
   "metadata": {},
   "outputs": [],
   "source": [
    "import matplotlib.pyplot as plt\n",
    "%matplotlib inline"
   ]
  },
  {
   "cell_type": "code",
   "execution_count": 29,
   "metadata": {},
   "outputs": [
    {
     "data": {
      "text/plain": [
       "array([[<matplotlib.axes._subplots.AxesSubplot object at 0x7f5d48d75128>,\n",
       "        <matplotlib.axes._subplots.AxesSubplot object at 0x7f5d490ef438>,\n",
       "        <matplotlib.axes._subplots.AxesSubplot object at 0x7f5d4aeb5518>],\n",
       "       [<matplotlib.axes._subplots.AxesSubplot object at 0x7f5d4aef3f28>,\n",
       "        <matplotlib.axes._subplots.AxesSubplot object at 0x7f5d4af454a8>,\n",
       "        <matplotlib.axes._subplots.AxesSubplot object at 0x7f5d4af94f60>],\n",
       "       [<matplotlib.axes._subplots.AxesSubplot object at 0x7f5d4afe4940>,\n",
       "        <matplotlib.axes._subplots.AxesSubplot object at 0x7f5d4afb9278>,\n",
       "        <matplotlib.axes._subplots.AxesSubplot object at 0x7f5d4afb9240>]],\n",
       "      dtype=object)"
      ]
     },
     "execution_count": 29,
     "metadata": {},
     "output_type": "execute_result"
    },
    {
     "data": {
      "image/png": "[encoded data removed]",
      "text/plain": [
       "<Figure size 432x288 with 9 Axes>"
      ]
     },
     "metadata": {
      "needs_background": "light"
     },
     "output_type": "display_data"
    }
   ],
   "source": [
    "df.price = df.price.fillna(value=0)\n",
    "price_dict = {\"$\": 1, \"$$\":2, \"$$$\": 3, \"$$$$\":4}\n",
    "df.price = df.price.map(price_dict)\n",
    "\n",
    "pd.plotting.scatter_matrix(df[['price', 'rating', 'review_count']])"
   ]
  },
  {
   "cell_type": "markdown",
   "metadata": {},
   "source": [
    "## Mapping\n",
    "\n",
    "Look at the initial Yelp example and try and make a map using Folium of the restaurants you retrieved. Be sure to also add popups to the markers giving some basic information such as name, rating and price."
   ]
  },
  {
   "cell_type": "code",
   "execution_count": 30,
   "metadata": {},
   "outputs": [],
   "source": [
    "#Your code here\n",
    "import folium"
   ]
  },
  {
   "cell_type": "code",
   "execution_count": 35,
   "metadata": {
    "scrolled": true
   },
   "outputs": [
    {
     "data": {
      "text/plain": [
       "0          {'latitude': 40.7589, 'longitude': -73.92601}\n",
       "1      {'latitude': 40.7628961, 'longitude': -73.9207...\n",
       "2         {'latitude': 40.76335, 'longitude': -73.91516}\n",
       "3      {'latitude': 40.7628982173022, 'longitude': -7...\n",
       "4         {'latitude': 40.76765, 'longitude': -73.92056}\n",
       "5        {'latitude': 40.770946, 'longitude': -73.92001}\n",
       "6      {'latitude': 40.7671877, 'longitude': -73.9299...\n",
       "7         {'latitude': 40.75718, 'longitude': -73.92686}\n",
       "8         {'latitude': 40.76466, 'longitude': -73.91722}\n",
       "9         {'latitude': 40.77375, 'longitude': -73.90778}\n",
       "10      {'latitude': 40.773986, 'longitude': -73.908126}\n",
       "11     {'latitude': 40.7749914695423, 'longitude': -7...\n",
       "12     {'latitude': 40.7584403193969, 'longitude': -7...\n",
       "13     {'latitude': 40.7590637, 'longitude': -73.9193...\n",
       "14     {'latitude': 40.7751406, 'longitude': -73.9124...\n",
       "15        {'latitude': 40.77907, 'longitude': -73.91439}\n",
       "16      {'latitude': 40.7662199, 'longitude': -73.92055}\n",
       "17     {'latitude': 40.7607386113415, 'longitude': -7...\n",
       "18        {'latitude': 40.76432, 'longitude': -73.91649}\n",
       "19        {'latitude': 40.76154, 'longitude': -73.92506}\n",
       "20     {'latitude': 40.765664798585, 'longitude': -73...\n",
       "21        {'latitude': 40.76346, 'longitude': -73.90886}\n",
       "22      {'latitude': 40.769171, 'longitude': -73.931012}\n",
       "23     {'latitude': 40.7653177897822, 'longitude': -7...\n",
       "24     {'latitude': 40.7547438, 'longitude': -73.9358...\n",
       "25     {'latitude': 40.7691515441696, 'longitude': -7...\n",
       "26        {'latitude': 40.77499, 'longitude': -73.91327}\n",
       "27      {'latitude': 40.759575, 'longitude': -73.920526}\n",
       "28     {'latitude': 40.7732423, 'longitude': -73.9164...\n",
       "29       {'latitude': 40.75214, 'longitude': -73.934339}\n",
       "                             ...                        \n",
       "970    {'latitude': 40.7754199, 'longitude': -73.9562...\n",
       "971    {'latitude': 40.7572278, 'longitude': -73.9735...\n",
       "972       {'latitude': 40.77512, 'longitude': -73.95521}\n",
       "973     {'latitude': 40.763858, 'longitude': -73.967269}\n",
       "974       {'latitude': 40.77637, 'longitude': -73.95646}\n",
       "975       {'latitude': 40.78029, 'longitude': -73.95254}\n",
       "976    {'latitude': 40.7646914398785, 'longitude': -7...\n",
       "977    {'latitude': 40.795036854881, 'longitude': -73...\n",
       "978     {'latitude': 40.755577, 'longitude': -73.968832}\n",
       "979    {'latitude': 41.0195198059082, 'longitude': -7...\n",
       "980    {'latitude': 40.7537643, 'longitude': -73.9691...\n",
       "981     {'latitude': 40.797256, 'longitude': -73.937934}\n",
       "982       {'latitude': 40.76269, 'longitude': -73.97147}\n",
       "983       {'latitude': 40.78412, 'longitude': -73.95052}\n",
       "984       {'latitude': 40.76423, 'longitude': -73.96654}\n",
       "985       {'latitude': 40.78269, 'longitude': -73.95094}\n",
       "986    {'latitude': 40.764311, 'longitude': -73.9619163}\n",
       "987     {'latitude': 40.791404, 'longitude': -73.972702}\n",
       "988        {'latitude': 40.7643, 'longitude': -73.96698}\n",
       "989        {'latitude': 40.7605, 'longitude': -73.96633}\n",
       "990        {'latitude': 40.75775, 'longitude': -73.9631}\n",
       "991     {'latitude': 40.755293, 'longitude': -73.968462}\n",
       "992    {'latitude': 40.7749519655958, 'longitude': -7...\n",
       "993    {'latitude': 40.8006527, 'longitude': -73.9654...\n",
       "994    {'latitude': 40.7577089110773, 'longitude': -7...\n",
       "995    {'latitude': 40.7859436042416, 'longitude': -7...\n",
       "996    {'latitude': 40.7353096, 'longitude': -73.8810...\n",
       "997       {'latitude': 40.76153, 'longitude': -73.96595}\n",
       "998    {'latitude': 40.7212418739738, 'longitude': -7...\n",
       "999     {'latitude': 40.795597, 'longitude': -73.930448}\n",
       "Name: coordinates, Length: 1000, dtype: object"
      ]
     },
     "execution_count": 35,
     "metadata": {},
     "output_type": "execute_result"
    }
   ],
   "source": [
    "df.coordinates"
   ]
  },
  {
   "cell_type": "code",
   "execution_count": 38,
   "metadata": {},
   "outputs": [
    {
     "data": {
      "text/plain": [
       "40.7589"
      ]
     },
     "execution_count": 38,
     "metadata": {},
     "output_type": "execute_result"
    }
   ],
   "source": [
    "lat_long = df['coordinates'].iloc[0]\n",
    "lat = lat_long['latitude']\n",
    "long = lat_long['longitude']\n"
   ]
  },
  {
   "cell_type": "code",
   "execution_count": null,
   "metadata": {},
   "outputs": [],
   "source": [
    "lat_long = df['coordinates'].iloc[0]\n",
    "lat = lat_long['latitude']\n",
    "long = lat_long['longitude']\n",
    "yelp_map = folium.Map([lat, long])\n",
    "\n",
    "for row in df.index:\n",
    "    try:\n",
    "        lat_long = df['coordinates'][row]\n",
    "        lat = lat_long['latitude']\n",
    "        long = lat_long['longitude']\n",
    "        name = df['name'][row]\n",
    "        rating = df['rating'][row]\n",
    "        price = df['price'][row]\n",
    "        details = \"{}\\nPrice: {} Rating:{}\".format(name,str(price),str(rating))\n",
    "        popup = folium.Popup(details, parse_html=True)\n",
    "        marker = folium.Marker([lat, long], popup=popup)\n",
    "        marker.add_to(yelp_map)\n",
    "    except:\n",
    "        print('Hit error on row: {}'.format(row))\n",
    "yelp_map"
   ]
  },
  {
   "cell_type": "markdown",
   "metadata": {},
   "source": [
    "## Summary\n",
    "\n",
    "Nice work! In this lab, you synthesized your skills for the day, making multiple API calls to Yelp in order to paginate through a results set, performing some basic exploratory analysis and then creating a nice map visual to display the results! Well done!"
   ]
  }
 ],
 "metadata": {
  "kernelspec": {
   "display_name": "Python 3",
   "language": "python",
   "name": "python3"
  },
  "language_info": {
   "codemirror_mode": {
    "name": "ipython",
    "version": 3
   },
   "file_extension": ".py",
   "mimetype": "text/x-python",
   "name": "python",
   "nbconvert_exporter": "python",
   "pygments_lexer": "ipython3",
   "version": "3.6.6"
  }
 },
 "nbformat": 4,
 "nbformat_minor": 2
}
